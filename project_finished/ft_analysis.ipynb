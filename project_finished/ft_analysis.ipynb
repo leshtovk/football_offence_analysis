{
 "cells": [
  {
   "cell_type": "markdown",
   "metadata": {},
   "source": [
    "# Offensive players and team performance in the 2017/18 NFL season"
   ]
  },
  {
   "cell_type": "code",
   "execution_count": 1,
   "metadata": {
    "collapsed": true
   },
   "outputs": [],
   "source": [
    "import pandas as pd \n",
    "pd.options.display.max_rows = 20 \n",
    "\n",
    "passing_RS = pd.read_csv('regular_season/passing_RS.csv', index_col = 'name')\n",
    "rushing_RS = pd.read_csv('regular_season/rushing_RS.csv', index_col = 'name')\n",
    "receiving_RS = pd.read_csv('regular_season/receiving_RS.csv', index_col = 'name')\n",
    "\n",
    "standings = pd.read_csv('regular_season/standings_RS.csv', index_col = 'Team')\n"
   ]
  },
  {
   "cell_type": "markdown",
   "metadata": {},
   "source": [
    "## Part one:\n",
    "## The link between a team's season standing and the rank of their quarterback \n"
   ]
  },
  {
   "cell_type": "markdown",
   "metadata": {},
   "source": [
    "The following table ranks the players who play the position 'Quarterback' by the amount of passing yards they have gained. The ones at the top of the table have more than 10x the amount of yards, the ones at the bottom do. \n",
    "What percentage of the total amount of yards do they generate ? "
   ]
  },
  {
   "cell_type": "code",
   "execution_count": 2,
   "metadata": {
    "scrolled": true
   },
   "outputs": [
    {
     "data": {
      "text/html": [
       "<div>\n",
       "<style>\n",
       "    .dataframe thead tr:only-child th {\n",
       "        text-align: right;\n",
       "    }\n",
       "\n",
       "    .dataframe thead th {\n",
       "        text-align: left;\n",
       "    }\n",
       "\n",
       "    .dataframe tbody tr th {\n",
       "        vertical-align: top;\n",
       "    }\n",
       "</style>\n",
       "<table border=\"1\" class=\"dataframe\">\n",
       "  <thead>\n",
       "    <tr style=\"text-align: right;\">\n",
       "      <th></th>\n",
       "      <th>rank</th>\n",
       "      <th>team</th>\n",
       "      <th>position</th>\n",
       "      <th>Completions</th>\n",
       "      <th>Attempts</th>\n",
       "      <th>Yards</th>\n",
       "      <th>Touchdowns</th>\n",
       "      <th>Interseptions</th>\n",
       "      <th>Long</th>\n",
       "      <th>20+</th>\n",
       "      <th>40+</th>\n",
       "      <th>Times Sacked</th>\n",
       "      <th>Rating</th>\n",
       "    </tr>\n",
       "    <tr>\n",
       "      <th>name</th>\n",
       "      <th></th>\n",
       "      <th></th>\n",
       "      <th></th>\n",
       "      <th></th>\n",
       "      <th></th>\n",
       "      <th></th>\n",
       "      <th></th>\n",
       "      <th></th>\n",
       "      <th></th>\n",
       "      <th></th>\n",
       "      <th></th>\n",
       "      <th></th>\n",
       "      <th></th>\n",
       "    </tr>\n",
       "  </thead>\n",
       "  <tbody>\n",
       "    <tr>\n",
       "      <th>Tom Brady</th>\n",
       "      <td>1</td>\n",
       "      <td>NE</td>\n",
       "      <td>QB</td>\n",
       "      <td>385</td>\n",
       "      <td>581</td>\n",
       "      <td>4577</td>\n",
       "      <td>32</td>\n",
       "      <td>8</td>\n",
       "      <td>64</td>\n",
       "      <td>62</td>\n",
       "      <td>10</td>\n",
       "      <td>35</td>\n",
       "      <td>102.8</td>\n",
       "    </tr>\n",
       "    <tr>\n",
       "      <th>Philip Rivers</th>\n",
       "      <td>2</td>\n",
       "      <td>LAC</td>\n",
       "      <td>QB</td>\n",
       "      <td>360</td>\n",
       "      <td>575</td>\n",
       "      <td>4515</td>\n",
       "      <td>28</td>\n",
       "      <td>10</td>\n",
       "      <td>75</td>\n",
       "      <td>61</td>\n",
       "      <td>12</td>\n",
       "      <td>18</td>\n",
       "      <td>96.0</td>\n",
       "    </tr>\n",
       "    <tr>\n",
       "      <th>Matthew Stafford</th>\n",
       "      <td>3</td>\n",
       "      <td>DET</td>\n",
       "      <td>QB</td>\n",
       "      <td>371</td>\n",
       "      <td>565</td>\n",
       "      <td>4446</td>\n",
       "      <td>29</td>\n",
       "      <td>10</td>\n",
       "      <td>71</td>\n",
       "      <td>61</td>\n",
       "      <td>16</td>\n",
       "      <td>47</td>\n",
       "      <td>99.3</td>\n",
       "    </tr>\n",
       "    <tr>\n",
       "      <th>Drew Brees</th>\n",
       "      <td>4</td>\n",
       "      <td>NO</td>\n",
       "      <td>QB</td>\n",
       "      <td>386</td>\n",
       "      <td>536</td>\n",
       "      <td>4334</td>\n",
       "      <td>23</td>\n",
       "      <td>8</td>\n",
       "      <td>54</td>\n",
       "      <td>72</td>\n",
       "      <td>11</td>\n",
       "      <td>20</td>\n",
       "      <td>103.9</td>\n",
       "    </tr>\n",
       "    <tr>\n",
       "      <th>Ben Roethlisberger</th>\n",
       "      <td>5</td>\n",
       "      <td>PIT</td>\n",
       "      <td>QB</td>\n",
       "      <td>360</td>\n",
       "      <td>561</td>\n",
       "      <td>4251</td>\n",
       "      <td>28</td>\n",
       "      <td>14</td>\n",
       "      <td>97</td>\n",
       "      <td>52</td>\n",
       "      <td>14</td>\n",
       "      <td>21</td>\n",
       "      <td>93.4</td>\n",
       "    </tr>\n",
       "    <tr>\n",
       "      <th>Matt Ryan</th>\n",
       "      <td>6</td>\n",
       "      <td>ATL</td>\n",
       "      <td>QB</td>\n",
       "      <td>342</td>\n",
       "      <td>529</td>\n",
       "      <td>4095</td>\n",
       "      <td>20</td>\n",
       "      <td>12</td>\n",
       "      <td>88</td>\n",
       "      <td>54</td>\n",
       "      <td>8</td>\n",
       "      <td>24</td>\n",
       "      <td>91.4</td>\n",
       "    </tr>\n",
       "    <tr>\n",
       "      <th>Kirk Cousins</th>\n",
       "      <td>7</td>\n",
       "      <td>WAS</td>\n",
       "      <td>QB</td>\n",
       "      <td>347</td>\n",
       "      <td>540</td>\n",
       "      <td>4093</td>\n",
       "      <td>27</td>\n",
       "      <td>13</td>\n",
       "      <td>74</td>\n",
       "      <td>59</td>\n",
       "      <td>9</td>\n",
       "      <td>41</td>\n",
       "      <td>93.9</td>\n",
       "    </tr>\n",
       "    <tr>\n",
       "      <th>Alex Smith</th>\n",
       "      <td>8</td>\n",
       "      <td>KC</td>\n",
       "      <td>QB</td>\n",
       "      <td>341</td>\n",
       "      <td>505</td>\n",
       "      <td>4042</td>\n",
       "      <td>26</td>\n",
       "      <td>5</td>\n",
       "      <td>79</td>\n",
       "      <td>52</td>\n",
       "      <td>13</td>\n",
       "      <td>35</td>\n",
       "      <td>104.7</td>\n",
       "    </tr>\n",
       "    <tr>\n",
       "      <th>Russell Wilson</th>\n",
       "      <td>9</td>\n",
       "      <td>SEA</td>\n",
       "      <td>QB</td>\n",
       "      <td>339</td>\n",
       "      <td>553</td>\n",
       "      <td>3983</td>\n",
       "      <td>34</td>\n",
       "      <td>11</td>\n",
       "      <td>74</td>\n",
       "      <td>58</td>\n",
       "      <td>12</td>\n",
       "      <td>43</td>\n",
       "      <td>95.4</td>\n",
       "    </tr>\n",
       "    <tr>\n",
       "      <th>Jared Goff</th>\n",
       "      <td>10</td>\n",
       "      <td>LA</td>\n",
       "      <td>QB</td>\n",
       "      <td>296</td>\n",
       "      <td>477</td>\n",
       "      <td>3804</td>\n",
       "      <td>28</td>\n",
       "      <td>7</td>\n",
       "      <td>94</td>\n",
       "      <td>54</td>\n",
       "      <td>12</td>\n",
       "      <td>25</td>\n",
       "      <td>100.5</td>\n",
       "    </tr>\n",
       "    <tr>\n",
       "      <th>...</th>\n",
       "      <td>...</td>\n",
       "      <td>...</td>\n",
       "      <td>...</td>\n",
       "      <td>...</td>\n",
       "      <td>...</td>\n",
       "      <td>...</td>\n",
       "      <td>...</td>\n",
       "      <td>...</td>\n",
       "      <td>...</td>\n",
       "      <td>...</td>\n",
       "      <td>...</td>\n",
       "      <td>...</td>\n",
       "      <td>...</td>\n",
       "    </tr>\n",
       "    <tr>\n",
       "      <th>Mike Glennon</th>\n",
       "      <td>41</td>\n",
       "      <td>CHI</td>\n",
       "      <td>QB</td>\n",
       "      <td>93</td>\n",
       "      <td>140</td>\n",
       "      <td>833</td>\n",
       "      <td>4</td>\n",
       "      <td>5</td>\n",
       "      <td>29</td>\n",
       "      <td>4</td>\n",
       "      <td>0</td>\n",
       "      <td>8</td>\n",
       "      <td>76.9</td>\n",
       "    </tr>\n",
       "    <tr>\n",
       "      <th>Bryce Petty</th>\n",
       "      <td>42</td>\n",
       "      <td>NYJ</td>\n",
       "      <td>QB</td>\n",
       "      <td>55</td>\n",
       "      <td>112</td>\n",
       "      <td>544</td>\n",
       "      <td>1</td>\n",
       "      <td>3</td>\n",
       "      <td>46</td>\n",
       "      <td>5</td>\n",
       "      <td>1</td>\n",
       "      <td>8</td>\n",
       "      <td>55.1</td>\n",
       "    </tr>\n",
       "    <tr>\n",
       "      <th>Nick Foles</th>\n",
       "      <td>43</td>\n",
       "      <td>PHI</td>\n",
       "      <td>QB</td>\n",
       "      <td>57</td>\n",
       "      <td>101</td>\n",
       "      <td>537</td>\n",
       "      <td>5</td>\n",
       "      <td>2</td>\n",
       "      <td>35</td>\n",
       "      <td>3</td>\n",
       "      <td>0</td>\n",
       "      <td>5</td>\n",
       "      <td>79.5</td>\n",
       "    </tr>\n",
       "    <tr>\n",
       "      <th>T.J. Yates</th>\n",
       "      <td>44</td>\n",
       "      <td>HOU</td>\n",
       "      <td>QB</td>\n",
       "      <td>47</td>\n",
       "      <td>97</td>\n",
       "      <td>523</td>\n",
       "      <td>4</td>\n",
       "      <td>3</td>\n",
       "      <td>40</td>\n",
       "      <td>7</td>\n",
       "      <td>1</td>\n",
       "      <td>13</td>\n",
       "      <td>65.8</td>\n",
       "    </tr>\n",
       "    <tr>\n",
       "      <th>Kevin Hogan</th>\n",
       "      <td>45</td>\n",
       "      <td>CLE</td>\n",
       "      <td>QB</td>\n",
       "      <td>46</td>\n",
       "      <td>75</td>\n",
       "      <td>517</td>\n",
       "      <td>4</td>\n",
       "      <td>5</td>\n",
       "      <td>49</td>\n",
       "      <td>8</td>\n",
       "      <td>2</td>\n",
       "      <td>6</td>\n",
       "      <td>71.9</td>\n",
       "    </tr>\n",
       "    <tr>\n",
       "      <th>Sam Bradford</th>\n",
       "      <td>46</td>\n",
       "      <td>MIN</td>\n",
       "      <td>QB</td>\n",
       "      <td>32</td>\n",
       "      <td>43</td>\n",
       "      <td>382</td>\n",
       "      <td>3</td>\n",
       "      <td>0</td>\n",
       "      <td>44</td>\n",
       "      <td>8</td>\n",
       "      <td>1</td>\n",
       "      <td>5</td>\n",
       "      <td>124.4</td>\n",
       "    </tr>\n",
       "    <tr>\n",
       "      <th>Paxton Lynch</th>\n",
       "      <td>47</td>\n",
       "      <td>DEN</td>\n",
       "      <td>QB</td>\n",
       "      <td>30</td>\n",
       "      <td>45</td>\n",
       "      <td>295</td>\n",
       "      <td>2</td>\n",
       "      <td>3</td>\n",
       "      <td>30</td>\n",
       "      <td>4</td>\n",
       "      <td>0</td>\n",
       "      <td>9</td>\n",
       "      <td>72.0</td>\n",
       "    </tr>\n",
       "    <tr>\n",
       "      <th>Patrick Mahomes</th>\n",
       "      <td>48</td>\n",
       "      <td>KC</td>\n",
       "      <td>QB</td>\n",
       "      <td>22</td>\n",
       "      <td>35</td>\n",
       "      <td>284</td>\n",
       "      <td>0</td>\n",
       "      <td>1</td>\n",
       "      <td>51</td>\n",
       "      <td>2</td>\n",
       "      <td>1</td>\n",
       "      <td>2</td>\n",
       "      <td>76.4</td>\n",
       "    </tr>\n",
       "    <tr>\n",
       "      <th>David Fales</th>\n",
       "      <td>49</td>\n",
       "      <td>MIA</td>\n",
       "      <td>QB</td>\n",
       "      <td>29</td>\n",
       "      <td>43</td>\n",
       "      <td>265</td>\n",
       "      <td>1</td>\n",
       "      <td>1</td>\n",
       "      <td>26</td>\n",
       "      <td>3</td>\n",
       "      <td>0</td>\n",
       "      <td>1</td>\n",
       "      <td>82.0</td>\n",
       "    </tr>\n",
       "    <tr>\n",
       "      <th>EJ Manuel</th>\n",
       "      <td>49</td>\n",
       "      <td>OAK</td>\n",
       "      <td>QB</td>\n",
       "      <td>24</td>\n",
       "      <td>43</td>\n",
       "      <td>265</td>\n",
       "      <td>1</td>\n",
       "      <td>1</td>\n",
       "      <td>41</td>\n",
       "      <td>4</td>\n",
       "      <td>1</td>\n",
       "      <td>4</td>\n",
       "      <td>72.3</td>\n",
       "    </tr>\n",
       "  </tbody>\n",
       "</table>\n",
       "<p>34 rows × 13 columns</p>\n",
       "</div>"
      ],
      "text/plain": [
       "                    rank team position  Completions  Attempts  Yards  \\\n",
       "name                                                                   \n",
       "Tom Brady              1   NE       QB          385       581   4577   \n",
       "Philip Rivers          2  LAC       QB          360       575   4515   \n",
       "Matthew Stafford       3  DET       QB          371       565   4446   \n",
       "Drew Brees             4   NO       QB          386       536   4334   \n",
       "Ben Roethlisberger     5  PIT       QB          360       561   4251   \n",
       "Matt Ryan              6  ATL       QB          342       529   4095   \n",
       "Kirk Cousins           7  WAS       QB          347       540   4093   \n",
       "Alex Smith             8   KC       QB          341       505   4042   \n",
       "Russell Wilson         9  SEA       QB          339       553   3983   \n",
       "Jared Goff            10   LA       QB          296       477   3804   \n",
       "...                  ...  ...      ...          ...       ...    ...   \n",
       "Mike Glennon          41  CHI       QB           93       140    833   \n",
       "Bryce Petty           42  NYJ       QB           55       112    544   \n",
       "Nick Foles            43  PHI       QB           57       101    537   \n",
       "T.J. Yates            44  HOU       QB           47        97    523   \n",
       "Kevin Hogan           45  CLE       QB           46        75    517   \n",
       "Sam Bradford          46  MIN       QB           32        43    382   \n",
       "Paxton Lynch          47  DEN       QB           30        45    295   \n",
       "Patrick Mahomes       48   KC       QB           22        35    284   \n",
       "David Fales           49  MIA       QB           29        43    265   \n",
       "EJ Manuel             49  OAK       QB           24        43    265   \n",
       "\n",
       "                    Touchdowns  Interseptions  Long  20+  40+  Times Sacked  \\\n",
       "name                                                                          \n",
       "Tom Brady                   32              8    64   62   10            35   \n",
       "Philip Rivers               28             10    75   61   12            18   \n",
       "Matthew Stafford            29             10    71   61   16            47   \n",
       "Drew Brees                  23              8    54   72   11            20   \n",
       "Ben Roethlisberger          28             14    97   52   14            21   \n",
       "Matt Ryan                   20             12    88   54    8            24   \n",
       "Kirk Cousins                27             13    74   59    9            41   \n",
       "Alex Smith                  26              5    79   52   13            35   \n",
       "Russell Wilson              34             11    74   58   12            43   \n",
       "Jared Goff                  28              7    94   54   12            25   \n",
       "...                        ...            ...   ...  ...  ...           ...   \n",
       "Mike Glennon                 4              5    29    4    0             8   \n",
       "Bryce Petty                  1              3    46    5    1             8   \n",
       "Nick Foles                   5              2    35    3    0             5   \n",
       "T.J. Yates                   4              3    40    7    1            13   \n",
       "Kevin Hogan                  4              5    49    8    2             6   \n",
       "Sam Bradford                 3              0    44    8    1             5   \n",
       "Paxton Lynch                 2              3    30    4    0             9   \n",
       "Patrick Mahomes              0              1    51    2    1             2   \n",
       "David Fales                  1              1    26    3    0             1   \n",
       "EJ Manuel                    1              1    41    4    1             4   \n",
       "\n",
       "                    Rating  \n",
       "name                        \n",
       "Tom Brady            102.8  \n",
       "Philip Rivers         96.0  \n",
       "Matthew Stafford      99.3  \n",
       "Drew Brees           103.9  \n",
       "Ben Roethlisberger    93.4  \n",
       "Matt Ryan             91.4  \n",
       "Kirk Cousins          93.9  \n",
       "Alex Smith           104.7  \n",
       "Russell Wilson        95.4  \n",
       "Jared Goff           100.5  \n",
       "...                    ...  \n",
       "Mike Glennon          76.9  \n",
       "Bryce Petty           55.1  \n",
       "Nick Foles            79.5  \n",
       "T.J. Yates            65.8  \n",
       "Kevin Hogan           71.9  \n",
       "Sam Bradford         124.4  \n",
       "Paxton Lynch          72.0  \n",
       "Patrick Mahomes       76.4  \n",
       "David Fales           82.0  \n",
       "EJ Manuel             72.3  \n",
       "\n",
       "[34 rows x 13 columns]"
      ]
     },
     "execution_count": 2,
     "metadata": {},
     "output_type": "execute_result"
    }
   ],
   "source": [
    "passing_RS[(passing_RS.Yards < 1000) | (passing_RS.Yards > 3000)]"
   ]
  },
  {
   "cell_type": "code",
   "execution_count": 3,
   "metadata": {},
   "outputs": [
    {
     "name": "stdout",
     "output_type": "stream",
     "text": [
      "Total pass yards in the table: 119385\n"
     ]
    }
   ],
   "source": [
    "total_p_yards = passing_RS['Yards'].sum()\n",
    "print ('Total pass yards in the table: ' + str(total_p_yards))"
   ]
  },
  {
   "cell_type": "code",
   "execution_count": 4,
   "metadata": {
    "collapsed": true
   },
   "outputs": [],
   "source": [
    "top10_QB = passing_RS.head(10)\n",
    "bottom10_QB = passing_RS.tail(10)\n",
    "bottom25_QB = passing_RS.tail(25)"
   ]
  },
  {
   "cell_type": "code",
   "execution_count": 5,
   "metadata": {},
   "outputs": [
    {
     "name": "stdout",
     "output_type": "stream",
     "text": [
      "The percentage of yards gained by the top 10 Quarterbacks: 35.0\n"
     ]
    }
   ],
   "source": [
    "top10_total = top10_QB['Yards'].sum()\n",
    "top10_per = round((top10_total / total_p_yards) * 100 )\n",
    "print ('The percentage of yards gained by the top 10 Quarterbacks: ' \n",
    "       + str(top10_per))"
   ]
  },
  {
   "cell_type": "code",
   "execution_count": 6,
   "metadata": {},
   "outputs": [
    {
     "name": "stdout",
     "output_type": "stream",
     "text": [
      "The percentage of yards gained by the bottom 10 Quarterbacks: 4.0\n"
     ]
    }
   ],
   "source": [
    "bottom10_total = bottom10_QB['Yards'].sum()\n",
    "bottom10_per = round((bottom10_total / total_p_yards) * 100)\n",
    "print ('The percentage of yards gained by the bottom 10 Quarterbacks: '\n",
    "      + str(bottom10_per))"
   ]
  },
  {
   "cell_type": "code",
   "execution_count": 7,
   "metadata": {},
   "outputs": [
    {
     "name": "stdout",
     "output_type": "stream",
     "text": [
      "The percentage of yards gained by the bottom 25 Quarterbacks: 24.0\n"
     ]
    }
   ],
   "source": [
    "bottom25_total = bottom25_QB['Yards'].sum()\n",
    "bottom25_per = round((bottom25_total / total_p_yards) * 100 )\n",
    "print ('The percentage of yards gained by the bottom 25 Quarterbacks: '\n",
    "      + str(bottom25_per))"
   ]
  },
  {
   "cell_type": "markdown",
   "metadata": {},
   "source": [
    "We see that the top 10 ranked quarterbacks are significantly more productive than the lower half of the table.\n",
    "If we were to plot this we would expect a declination in productivity as rank decreases."
   ]
  },
  {
   "cell_type": "code",
   "execution_count": 8,
   "metadata": {
    "collapsed": true
   },
   "outputs": [],
   "source": [
    "%matplotlib inline"
   ]
  },
  {
   "cell_type": "markdown",
   "metadata": {},
   "source": [
    "### Passing yards decline as the rank of the player gets lower:"
   ]
  },
  {
   "cell_type": "code",
   "execution_count": 9,
   "metadata": {
    "scrolled": false
   },
   "outputs": [
    {
     "data": {
      "text/plain": [
       "<matplotlib.axes._subplots.AxesSubplot at 0x76236f0>"
      ]
     },
     "execution_count": 9,
     "metadata": {},
     "output_type": "execute_result"
    },
    {
     "data": {
      "image/png": "[encoded data removed]",
      "text/plain": [
       "<matplotlib.figure.Figure at 0x7611f50>"
      ]
     },
     "metadata": {},
     "output_type": "display_data"
    }
   ],
   "source": [
    "passing_RS.plot(x = 'rank' ,y = 'Yards')"
   ]
  },
  {
   "cell_type": "markdown",
   "metadata": {},
   "source": [
    "### The same holds for touchdowns:\n",
    "(Although the graph does not decline steadily as the previous one. This is because most often, players are ranked based on the stat which is most specific to their position. Such is the case here, with quarterbacks being ranked by the amount of passing yards they have gained; wide-receivers by receptions; halfbacks by average rushing yards per attempt) "
   ]
  },
  {
   "cell_type": "code",
   "execution_count": 10,
   "metadata": {},
   "outputs": [
    {
     "data": {
      "text/plain": [
       "<matplotlib.axes._subplots.AxesSubplot at 0x76bf510>"
      ]
     },
     "execution_count": 10,
     "metadata": {},
     "output_type": "execute_result"
    },
    {
     "data": {
      "image/png": "[encoded data removed]",
      "text/plain": [
       "<matplotlib.figure.Figure at 0x76f4630>"
      ]
     },
     "metadata": {},
     "output_type": "display_data"
    }
   ],
   "source": [
    "passing_RS.plot(x = 'rank', y = 'Touchdowns')"
   ]
  },
  {
   "cell_type": "markdown",
   "metadata": {},
   "source": [
    "### Higher ranked Quarterbacks also turn the ball over much less:"
   ]
  },
  {
   "cell_type": "code",
   "execution_count": 11,
   "metadata": {},
   "outputs": [
    {
     "data": {
      "text/plain": [
       "<matplotlib.axes._subplots.AxesSubplot at 0x87348b0>"
      ]
     },
     "execution_count": 11,
     "metadata": {},
     "output_type": "execute_result"
    },
    {
     "data": {
      "image/png": "[encoded data removed]",
      "text/plain": [
       "<matplotlib.figure.Figure at 0x8746b90>"
      ]
     },
     "metadata": {},
     "output_type": "display_data"
    }
   ],
   "source": [
    "passing_RS.plot(x = 'rank', y = 'Interseptions')"
   ]
  },
  {
   "cell_type": "markdown",
   "metadata": {},
   "source": [
    "This graph spikes in the middle, which is not a result we have gotten so far. Interseptions in the 'passing' table is a negative stat, the amount of times a quarterback has thrown the ball to the other team. What is the reason for the spike in the middle of the table ? \n",
    "There are 32 teams in the league. At any one time in an offensive formation there can only be one quarterback. Most of the teams have their starting QB in the field for the majority of the game, with the substitutes entering only in the end of sure-win games or in the case of an injured starter. \n",
    "\n",
    "We can hypothesize that the reason for the result in the previous graph is because the QBs in the middle of the table are the worst of the starting QBs in the league. "
   ]
  },
  {
   "cell_type": "markdown",
   "metadata": {},
   "source": [
    "### The QB Rating: "
   ]
  },
  {
   "cell_type": "code",
   "execution_count": 12,
   "metadata": {},
   "outputs": [
    {
     "data": {
      "text/plain": [
       "<matplotlib.axes._subplots.AxesSubplot at 0x86ed630>"
      ]
     },
     "execution_count": 12,
     "metadata": {},
     "output_type": "execute_result"
    },
    {
     "data": {
      "image/png": "[encoded data removed]",
      "text/plain": [
       "<matplotlib.figure.Figure at 0x874cc10>"
      ]
     },
     "metadata": {},
     "output_type": "display_data"
    }
   ],
   "source": [
    "passing_RS.plot.bar(x = 'rank', y = 'Rating')"
   ]
  },
  {
   "cell_type": "markdown",
   "metadata": {},
   "source": [
    "In addition to their 'rank', quarterbacks also have a 'QB rating'. This stat is influenced by the QB's pass conversion percentage and the amount of touchdowns and interseptions they have to their name.\n",
    "The players with the lowest ratings are in the middle, towards the end, which is in accordance with the hypothesis that they are the worst of the starters, and also substitutes (at the end). "
   ]
  },
  {
   "cell_type": "code",
   "execution_count": 13,
   "metadata": {
    "collapsed": true
   },
   "outputs": [],
   "source": [
    "team_dict = {'ARI' : 'Arizona Cardinals',\n",
    "            'ATL' : 'Atlanta Falcons',\n",
    "            'BAL' : 'Baltimore Ravens', \n",
    "            'BUF' : 'Buffalo Bills',\n",
    "            'CAR' : 'Carolina Panthers',\n",
    "            'CHI' : 'Chicago Bears',\n",
    "            'CIN' : 'Cincinnati Bengals',\n",
    "            'CLE' : 'Cleveland Browns', \n",
    "            'DAL' : 'Dallas Cowboys',\n",
    "            'DEN' : 'Denver Broncos',\n",
    "            'DET' : 'Detroit Lions', \n",
    "            'GB' : 'Green Bay Packers', \n",
    "            'HOU' : 'Houston Texans',\n",
    "            'IND' : 'Indianapolis Colts', \n",
    "            'JAX' : 'Jacksonville Jaguars',\n",
    "            'KC' : 'Kansas City Chiefs',\n",
    "            'LA' : 'Los Angeles Rams',\n",
    "            'LAC' : 'Los Angeles Chargers',\n",
    "            'MIA' : 'Miami Dolphins',\n",
    "            'MIN' : 'Minnesota Vikings', \n",
    "            'NE' : 'New England Patriots',\n",
    "            'NO' : 'New Orleans Saints', \n",
    "            'NYG' : 'New York Giants', \n",
    "            'NYJ' : 'New York Jets',\n",
    "            'OAK' : 'Oakland Raiders', \n",
    "            'PHI' : 'Philadelphia Eagles', \n",
    "            'PIT' : 'Pittsburgh Steelers',\n",
    "            'SF' : 'San Francisco 49ers', \n",
    "            'SEA' : 'Seattle Seahawks', \n",
    "            'TB' : 'Tampa Bay Buccaneers', \n",
    "            'TEN' : 'Tennessee Titans',\n",
    "            'WAS' : 'Washington Redskins'}\n"
   ]
  },
  {
   "cell_type": "code",
   "execution_count": 14,
   "metadata": {
    "collapsed": true
   },
   "outputs": [],
   "source": [
    "wins = standings.sort_values(['Percent'], ascending = False)['Wins']\n",
    "\n",
    "worst_QBs = passing_RS[20:35:1]\n",
    "\n",
    "worst_teams = wins.tail(10)\n",
    "\n",
    "worst_teams_list = worst_teams.index.tolist()\n",
    "\n",
    "teams_with_bad_QB = worst_QBs['team'].tolist()"
   ]
  },
  {
   "cell_type": "code",
   "execution_count": 15,
   "metadata": {
    "collapsed": true
   },
   "outputs": [],
   "source": [
    "def update_teams(alist):\n",
    "    a = []\n",
    "    for i in alist: \n",
    "        a.append(team_dict.get(i))\n",
    "    return a \n",
    "\n",
    "teams_with_bad_QB_updated = update_teams(teams_with_bad_QB)"
   ]
  },
  {
   "cell_type": "code",
   "execution_count": 16,
   "metadata": {
    "collapsed": true
   },
   "outputs": [],
   "source": [
    "def count(a_list, b_list):\n",
    "    i = 0\n",
    "    for team in a_list: \n",
    "        if (team in b_list) == True:\n",
    "            i += 1\n",
    "    return i     "
   ]
  },
  {
   "cell_type": "markdown",
   "metadata": {},
   "source": [
    "Of the 10 worst teams in the league, the following amount of them have a Quarterback in the middle of the 'passing' table:"
   ]
  },
  {
   "cell_type": "code",
   "execution_count": 17,
   "metadata": {},
   "outputs": [
    {
     "data": {
      "text/plain": [
       "7"
      ]
     },
     "execution_count": 17,
     "metadata": {},
     "output_type": "execute_result"
    }
   ],
   "source": [
    "count(worst_teams_list, teams_with_bad_QB_updated)"
   ]
  },
  {
   "cell_type": "markdown",
   "metadata": {},
   "source": [
    "Now we look at the most successful teams and the highest-ranked QBs:"
   ]
  },
  {
   "cell_type": "code",
   "execution_count": 18,
   "metadata": {
    "collapsed": true
   },
   "outputs": [],
   "source": [
    "best_QBs = passing_RS[0:15:1]\n",
    "\n",
    "best_teams = wins.head(10)\n",
    "\n",
    "best_teams_list = best_teams.index.tolist()\n",
    "\n",
    "teams_with_good_QB = best_QBs['team'].tolist()"
   ]
  },
  {
   "cell_type": "code",
   "execution_count": 19,
   "metadata": {
    "collapsed": true
   },
   "outputs": [],
   "source": [
    "teams_with_good_QB_updated = update_teams(teams_with_good_QB)"
   ]
  },
  {
   "cell_type": "markdown",
   "metadata": {},
   "source": [
    "Of the 10 best teams in the league, the following amount of them have a Quarterback at the top of the 'passing' table:"
   ]
  },
  {
   "cell_type": "code",
   "execution_count": 20,
   "metadata": {},
   "outputs": [
    {
     "data": {
      "text/plain": [
       "8"
      ]
     },
     "execution_count": 20,
     "metadata": {},
     "output_type": "execute_result"
    }
   ],
   "source": [
    "count(best_teams_list, teams_with_good_QB_updated)"
   ]
  },
  {
   "cell_type": "markdown",
   "metadata": {},
   "source": [
    "### Hypothesis 1 was correct. "
   ]
  },
  {
   "cell_type": "markdown",
   "metadata": {},
   "source": [
    "## Part two: \n",
    "## Correlations between team success and overall team stats:"
   ]
  },
  {
   "cell_type": "markdown",
   "metadata": {},
   "source": [
    "In this part we will try to see if there are patterns in a teams' overall stats that can be linked to their success.\n",
    "\n",
    "Hypothesis 2.1: The greater the difference between the points a team has scored and the points it has allowed, the more wins it has. \n",
    "\n",
    "Hypothesis 2.2: Teams that have better home-field records also have better records overall. \n",
    "\n",
    "As the post-season approaches the competition to get into the playoffs gets more intense. All the teams that made it into the playoffs are among the top 15, as ranked by the amount of wins they have. The stakes are the highest for teams that do not have insured a place in the playoffs. We would expect exactly those teams to have had the best results in the league for the last games of the season. The 'Final_Streak' stat says how many of their final 5 games a team has won.\n",
    "\n",
    "Hypothesis 2.3: Most of the top 15 teams (as ranked by their amount of wins) ended the season better than the rest of the league.\n",
    "\n",
    "Hypothesis 2.4: The best teams in the league are the best at keeping their quarterbacks from being sacked."
   ]
  },
  {
   "cell_type": "code",
   "execution_count": 21,
   "metadata": {
    "scrolled": true
   },
   "outputs": [
    {
     "data": {
      "text/html": [
       "<div>\n",
       "<style>\n",
       "    .dataframe thead tr:only-child th {\n",
       "        text-align: right;\n",
       "    }\n",
       "\n",
       "    .dataframe thead th {\n",
       "        text-align: left;\n",
       "    }\n",
       "\n",
       "    .dataframe tbody tr th {\n",
       "        vertical-align: top;\n",
       "    }\n",
       "</style>\n",
       "<table border=\"1\" class=\"dataframe\">\n",
       "  <thead>\n",
       "    <tr style=\"text-align: right;\">\n",
       "      <th></th>\n",
       "      <th>Wins</th>\n",
       "      <th>Losses</th>\n",
       "      <th>Ties</th>\n",
       "      <th>Percent</th>\n",
       "      <th>Points_Scored</th>\n",
       "      <th>Points_allowed</th>\n",
       "      <th>Home_Wins</th>\n",
       "      <th>Home_Losses</th>\n",
       "      <th>Home_Ties</th>\n",
       "      <th>Road_Wins</th>\n",
       "      <th>Road_Losses</th>\n",
       "      <th>Road_Ties</th>\n",
       "      <th>Conference_Wins</th>\n",
       "      <th>Conference_Losses</th>\n",
       "      <th>Conference_Ties</th>\n",
       "      <th>Final_Streak</th>\n",
       "    </tr>\n",
       "    <tr>\n",
       "      <th>Team</th>\n",
       "      <th></th>\n",
       "      <th></th>\n",
       "      <th></th>\n",
       "      <th></th>\n",
       "      <th></th>\n",
       "      <th></th>\n",
       "      <th></th>\n",
       "      <th></th>\n",
       "      <th></th>\n",
       "      <th></th>\n",
       "      <th></th>\n",
       "      <th></th>\n",
       "      <th></th>\n",
       "      <th></th>\n",
       "      <th></th>\n",
       "      <th></th>\n",
       "    </tr>\n",
       "  </thead>\n",
       "  <tbody>\n",
       "    <tr>\n",
       "      <th>Minnesota Vikings</th>\n",
       "      <td>13</td>\n",
       "      <td>3</td>\n",
       "      <td>0</td>\n",
       "      <td>0.813</td>\n",
       "      <td>382</td>\n",
       "      <td>252</td>\n",
       "      <td>7</td>\n",
       "      <td>1</td>\n",
       "      <td>0</td>\n",
       "      <td>6</td>\n",
       "      <td>2</td>\n",
       "      <td>0</td>\n",
       "      <td>10</td>\n",
       "      <td>2</td>\n",
       "      <td>0</td>\n",
       "      <td>4</td>\n",
       "    </tr>\n",
       "    <tr>\n",
       "      <th>New England Patriots</th>\n",
       "      <td>13</td>\n",
       "      <td>3</td>\n",
       "      <td>0</td>\n",
       "      <td>0.813</td>\n",
       "      <td>458</td>\n",
       "      <td>296</td>\n",
       "      <td>6</td>\n",
       "      <td>2</td>\n",
       "      <td>0</td>\n",
       "      <td>7</td>\n",
       "      <td>1</td>\n",
       "      <td>0</td>\n",
       "      <td>10</td>\n",
       "      <td>2</td>\n",
       "      <td>0</td>\n",
       "      <td>4</td>\n",
       "    </tr>\n",
       "    <tr>\n",
       "      <th>Pittsburgh Steelers</th>\n",
       "      <td>13</td>\n",
       "      <td>3</td>\n",
       "      <td>0</td>\n",
       "      <td>0.813</td>\n",
       "      <td>406</td>\n",
       "      <td>308</td>\n",
       "      <td>6</td>\n",
       "      <td>2</td>\n",
       "      <td>0</td>\n",
       "      <td>7</td>\n",
       "      <td>1</td>\n",
       "      <td>0</td>\n",
       "      <td>10</td>\n",
       "      <td>2</td>\n",
       "      <td>0</td>\n",
       "      <td>4</td>\n",
       "    </tr>\n",
       "    <tr>\n",
       "      <th>Philadelphia Eagles</th>\n",
       "      <td>13</td>\n",
       "      <td>3</td>\n",
       "      <td>0</td>\n",
       "      <td>0.813</td>\n",
       "      <td>457</td>\n",
       "      <td>295</td>\n",
       "      <td>7</td>\n",
       "      <td>1</td>\n",
       "      <td>0</td>\n",
       "      <td>6</td>\n",
       "      <td>2</td>\n",
       "      <td>0</td>\n",
       "      <td>10</td>\n",
       "      <td>2</td>\n",
       "      <td>0</td>\n",
       "      <td>3</td>\n",
       "    </tr>\n",
       "    <tr>\n",
       "      <th>New Orleans Saints</th>\n",
       "      <td>11</td>\n",
       "      <td>5</td>\n",
       "      <td>0</td>\n",
       "      <td>0.688</td>\n",
       "      <td>448</td>\n",
       "      <td>326</td>\n",
       "      <td>7</td>\n",
       "      <td>1</td>\n",
       "      <td>0</td>\n",
       "      <td>4</td>\n",
       "      <td>4</td>\n",
       "      <td>0</td>\n",
       "      <td>8</td>\n",
       "      <td>4</td>\n",
       "      <td>0</td>\n",
       "      <td>3</td>\n",
       "    </tr>\n",
       "    <tr>\n",
       "      <th>...</th>\n",
       "      <td>...</td>\n",
       "      <td>...</td>\n",
       "      <td>...</td>\n",
       "      <td>...</td>\n",
       "      <td>...</td>\n",
       "      <td>...</td>\n",
       "      <td>...</td>\n",
       "      <td>...</td>\n",
       "      <td>...</td>\n",
       "      <td>...</td>\n",
       "      <td>...</td>\n",
       "      <td>...</td>\n",
       "      <td>...</td>\n",
       "      <td>...</td>\n",
       "      <td>...</td>\n",
       "      <td>...</td>\n",
       "    </tr>\n",
       "    <tr>\n",
       "      <th>Chicago Bears</th>\n",
       "      <td>5</td>\n",
       "      <td>11</td>\n",
       "      <td>0</td>\n",
       "      <td>0.313</td>\n",
       "      <td>264</td>\n",
       "      <td>320</td>\n",
       "      <td>3</td>\n",
       "      <td>5</td>\n",
       "      <td>0</td>\n",
       "      <td>2</td>\n",
       "      <td>6</td>\n",
       "      <td>0</td>\n",
       "      <td>1</td>\n",
       "      <td>11</td>\n",
       "      <td>0</td>\n",
       "      <td>2</td>\n",
       "    </tr>\n",
       "    <tr>\n",
       "      <th>Indianapolis Colts</th>\n",
       "      <td>4</td>\n",
       "      <td>12</td>\n",
       "      <td>0</td>\n",
       "      <td>0.250</td>\n",
       "      <td>263</td>\n",
       "      <td>404</td>\n",
       "      <td>3</td>\n",
       "      <td>5</td>\n",
       "      <td>0</td>\n",
       "      <td>1</td>\n",
       "      <td>7</td>\n",
       "      <td>0</td>\n",
       "      <td>3</td>\n",
       "      <td>9</td>\n",
       "      <td>0</td>\n",
       "      <td>1</td>\n",
       "    </tr>\n",
       "    <tr>\n",
       "      <th>Houston Texans</th>\n",
       "      <td>4</td>\n",
       "      <td>12</td>\n",
       "      <td>0</td>\n",
       "      <td>0.250</td>\n",
       "      <td>338</td>\n",
       "      <td>436</td>\n",
       "      <td>3</td>\n",
       "      <td>5</td>\n",
       "      <td>0</td>\n",
       "      <td>1</td>\n",
       "      <td>7</td>\n",
       "      <td>0</td>\n",
       "      <td>3</td>\n",
       "      <td>9</td>\n",
       "      <td>0</td>\n",
       "      <td>0</td>\n",
       "    </tr>\n",
       "    <tr>\n",
       "      <th>New York Giants</th>\n",
       "      <td>3</td>\n",
       "      <td>13</td>\n",
       "      <td>0</td>\n",
       "      <td>0.188</td>\n",
       "      <td>246</td>\n",
       "      <td>388</td>\n",
       "      <td>2</td>\n",
       "      <td>6</td>\n",
       "      <td>0</td>\n",
       "      <td>1</td>\n",
       "      <td>7</td>\n",
       "      <td>0</td>\n",
       "      <td>1</td>\n",
       "      <td>11</td>\n",
       "      <td>0</td>\n",
       "      <td>1</td>\n",
       "    </tr>\n",
       "    <tr>\n",
       "      <th>Cleveland Browns</th>\n",
       "      <td>0</td>\n",
       "      <td>16</td>\n",
       "      <td>0</td>\n",
       "      <td>0.000</td>\n",
       "      <td>234</td>\n",
       "      <td>410</td>\n",
       "      <td>0</td>\n",
       "      <td>8</td>\n",
       "      <td>0</td>\n",
       "      <td>0</td>\n",
       "      <td>8</td>\n",
       "      <td>0</td>\n",
       "      <td>0</td>\n",
       "      <td>12</td>\n",
       "      <td>0</td>\n",
       "      <td>0</td>\n",
       "    </tr>\n",
       "  </tbody>\n",
       "</table>\n",
       "<p>32 rows × 16 columns</p>\n",
       "</div>"
      ],
      "text/plain": [
       "                      Wins  Losses  Ties  Percent  Points_Scored  \\\n",
       "Team                                                               \n",
       "Minnesota Vikings       13       3     0    0.813            382   \n",
       "New England Patriots    13       3     0    0.813            458   \n",
       "Pittsburgh Steelers     13       3     0    0.813            406   \n",
       "Philadelphia Eagles     13       3     0    0.813            457   \n",
       "New Orleans Saints      11       5     0    0.688            448   \n",
       "...                    ...     ...   ...      ...            ...   \n",
       "Chicago Bears            5      11     0    0.313            264   \n",
       "Indianapolis Colts       4      12     0    0.250            263   \n",
       "Houston Texans           4      12     0    0.250            338   \n",
       "New York Giants          3      13     0    0.188            246   \n",
       "Cleveland Browns         0      16     0    0.000            234   \n",
       "\n",
       "                      Points_allowed  Home_Wins  Home_Losses  Home_Ties  \\\n",
       "Team                                                                      \n",
       "Minnesota Vikings                252          7            1          0   \n",
       "New England Patriots             296          6            2          0   \n",
       "Pittsburgh Steelers              308          6            2          0   \n",
       "Philadelphia Eagles              295          7            1          0   \n",
       "New Orleans Saints               326          7            1          0   \n",
       "...                              ...        ...          ...        ...   \n",
       "Chicago Bears                    320          3            5          0   \n",
       "Indianapolis Colts               404          3            5          0   \n",
       "Houston Texans                   436          3            5          0   \n",
       "New York Giants                  388          2            6          0   \n",
       "Cleveland Browns                 410          0            8          0   \n",
       "\n",
       "                      Road_Wins  Road_Losses  Road_Ties  Conference_Wins  \\\n",
       "Team                                                                       \n",
       "Minnesota Vikings             6            2          0               10   \n",
       "New England Patriots          7            1          0               10   \n",
       "Pittsburgh Steelers           7            1          0               10   \n",
       "Philadelphia Eagles           6            2          0               10   \n",
       "New Orleans Saints            4            4          0                8   \n",
       "...                         ...          ...        ...              ...   \n",
       "Chicago Bears                 2            6          0                1   \n",
       "Indianapolis Colts            1            7          0                3   \n",
       "Houston Texans                1            7          0                3   \n",
       "New York Giants               1            7          0                1   \n",
       "Cleveland Browns              0            8          0                0   \n",
       "\n",
       "                      Conference_Losses  Conference_Ties  Final_Streak  \n",
       "Team                                                                    \n",
       "Minnesota Vikings                     2                0             4  \n",
       "New England Patriots                  2                0             4  \n",
       "Pittsburgh Steelers                   2                0             4  \n",
       "Philadelphia Eagles                   2                0             3  \n",
       "New Orleans Saints                    4                0             3  \n",
       "...                                 ...              ...           ...  \n",
       "Chicago Bears                        11                0             2  \n",
       "Indianapolis Colts                    9                0             1  \n",
       "Houston Texans                        9                0             0  \n",
       "New York Giants                      11                0             1  \n",
       "Cleveland Browns                     12                0             0  \n",
       "\n",
       "[32 rows x 16 columns]"
      ]
     },
     "execution_count": 21,
     "metadata": {},
     "output_type": "execute_result"
    }
   ],
   "source": [
    "pd.options.display.max_rows = 10\n",
    "standings.sort_values(['Wins'], ascending = False )"
   ]
  },
  {
   "cell_type": "markdown",
   "metadata": {},
   "source": [
    "### Hypothesis 2.1"
   ]
  },
  {
   "cell_type": "code",
   "execution_count": 22,
   "metadata": {
    "scrolled": true
   },
   "outputs": [
    {
     "data": {
      "text/plain": [
       "<matplotlib.axes._subplots.AxesSubplot at 0x878a910>"
      ]
     },
     "execution_count": 22,
     "metadata": {},
     "output_type": "execute_result"
    },
    {
     "data": {
      "image/png": "[encoded data removed]",
      "text/plain": [
       "<matplotlib.figure.Figure at 0x8804db0>"
      ]
     },
     "metadata": {},
     "output_type": "display_data"
    }
   ],
   "source": [
    "standings.sort_values('Points_Scored', ascending = False).plot.bar(x = 'Points_Scored', y = 'Wins')"
   ]
  },
  {
   "cell_type": "markdown",
   "metadata": {},
   "source": [
    "The graph shows that teams that score a lot of points alse have high win totals, but there are teams with considerably less points and the same win total. \n",
    "Next we can question how the points a team has allowed tie into this. "
   ]
  },
  {
   "cell_type": "code",
   "execution_count": 23,
   "metadata": {},
   "outputs": [
    {
     "data": {
      "text/plain": [
       "<matplotlib.axes._subplots.AxesSubplot at 0x8842fd0>"
      ]
     },
     "execution_count": 23,
     "metadata": {},
     "output_type": "execute_result"
    },
    {
     "data": {
      "image/png": "[encoded data removed]",
      "text/plain": [
       "<matplotlib.figure.Figure at 0x8961bd0>"
      ]
     },
     "metadata": {},
     "output_type": "display_data"
    }
   ],
   "source": [
    "standings.sort_values('Points_allowed', ascending = False).plot.bar(x = 'Points_allowed', y = 'Wins')"
   ]
  },
  {
   "cell_type": "markdown",
   "metadata": {},
   "source": [
    "The results are comparable to the previous. Teams that have defended better tend to have more wins, with a considerable amount of teams in the middle, having the same results as teams at the bottom."
   ]
  },
  {
   "cell_type": "markdown",
   "metadata": {},
   "source": [
    "In order to draw a conclusion we must see how these two stats combined influence the win column."
   ]
  },
  {
   "cell_type": "code",
   "execution_count": 24,
   "metadata": {},
   "outputs": [
    {
     "data": {
      "text/plain": [
       "<matplotlib.axes._subplots.AxesSubplot at 0x8a6ef90>"
      ]
     },
     "execution_count": 24,
     "metadata": {},
     "output_type": "execute_result"
    },
    {
     "data": {
      "image/png": "[encoded data removed]",
      "text/plain": [
       "<matplotlib.figure.Figure at 0x87f0f70>"
      ]
     },
     "metadata": {},
     "output_type": "display_data"
    }
   ],
   "source": [
    "standings.plot.scatter(x = 'Points_Scored', y = 'Points_allowed')"
   ]
  },
  {
   "cell_type": "markdown",
   "metadata": {},
   "source": [
    "From this graph we see that if a team has scored less than 350 points it is very likely to have allowed over 350.\n",
    "Also, if a team has allowed less than 350 points it is very likely to have scored over 350."
   ]
  },
  {
   "cell_type": "markdown",
   "metadata": {},
   "source": [
    "### The difference between scored and allowed points for each team: \n",
    "### (ranked by wins, ascending from left to right)"
   ]
  },
  {
   "cell_type": "code",
   "execution_count": 25,
   "metadata": {},
   "outputs": [
    {
     "data": {
      "text/plain": [
       "<matplotlib.axes._subplots.AxesSubplot at 0x8adad30>"
      ]
     },
     "execution_count": 25,
     "metadata": {},
     "output_type": "execute_result"
    },
    {
     "data": {
      "image/png": "[encoded data removed]",
      "text/plain": [
       "<matplotlib.figure.Figure at 0x8b38630>"
      ]
     },
     "metadata": {},
     "output_type": "display_data"
    }
   ],
   "source": [
    "standings['Point_Difference'] = standings['Points_Scored'] - standings['Points_allowed'] \n",
    "standings.sort_values('Wins')['Point_Difference'].plot.bar()"
   ]
  },
  {
   "cell_type": "markdown",
   "metadata": {},
   "source": [
    "The final graph draws a definite conclusion, with there being only one discrepancy. \n",
    "What determines whether a team will be in the higher or the lower half of the win column is whether they have scored more points than they have allowed. \n",
    "However, the magnitude of the difference between scored and allowed points does not seem to directly influence the total amount of wins. \n",
    "Therefore hypothesis 2.1 was incorrect. "
   ]
  },
  {
   "cell_type": "markdown",
   "metadata": {},
   "source": [
    "### Hypotheses 2.2 and 2.3"
   ]
  },
  {
   "cell_type": "markdown",
   "metadata": {},
   "source": [
    "#### Teams ranked by wins versus their amount of wins at home-field:"
   ]
  },
  {
   "cell_type": "code",
   "execution_count": 26,
   "metadata": {},
   "outputs": [
    {
     "data": {
      "text/plain": [
       "<matplotlib.axes._subplots.AxesSubplot at 0x8bec210>"
      ]
     },
     "execution_count": 26,
     "metadata": {},
     "output_type": "execute_result"
    },
    {
     "data": {
      "image/png": "[encoded data removed]",
      "text/plain": [
       "<matplotlib.figure.Figure at 0x8c225b0>"
      ]
     },
     "metadata": {},
     "output_type": "display_data"
    }
   ],
   "source": [
    "standings.sort_values('Wins')['Home_Wins'].plot.bar()"
   ]
  },
  {
   "cell_type": "markdown",
   "metadata": {},
   "source": [
    "The highest 'Home_Wins' stat is 7. All throughout the win column there are teams with 4 or 5 home wins, even at the very bottom, which discredits hypothesis 2.2 "
   ]
  },
  {
   "cell_type": "markdown",
   "metadata": {},
   "source": [
    "#### Teams ranked by wins versus their result from the last 5 games:"
   ]
  },
  {
   "cell_type": "code",
   "execution_count": 27,
   "metadata": {},
   "outputs": [
    {
     "data": {
      "text/plain": [
       "<matplotlib.axes._subplots.AxesSubplot at 0x8d5fdd0>"
      ]
     },
     "execution_count": 27,
     "metadata": {},
     "output_type": "execute_result"
    },
    {
     "data": {
      "image/png": "[encoded data removed]",
      "text/plain": [
       "<matplotlib.figure.Figure at 0x8d6d9d0>"
      ]
     },
     "metadata": {},
     "output_type": "display_data"
    }
   ],
   "source": [
    "standings.sort_values('Wins')['Final_Streak'].plot.bar()"
   ]
  },
  {
   "cell_type": "markdown",
   "metadata": {},
   "source": [
    "From this graph we can see that the best 'Final_Streak' stats are achieved by teams at the top half and the middle of the win column, with only one discrepancy towards the end.  \n",
    "We conclude that hypothesis 2.3 was correct."
   ]
  },
  {
   "cell_type": "markdown",
   "metadata": {},
   "source": [
    "### Hypothesis 3.4"
   ]
  },
  {
   "cell_type": "code",
   "execution_count": 28,
   "metadata": {},
   "outputs": [
    {
     "data": {
      "text/plain": [
       "<matplotlib.axes._subplots.AxesSubplot at 0x895c130>"
      ]
     },
     "execution_count": 28,
     "metadata": {},
     "output_type": "execute_result"
    },
    {
     "data": {
      "image/png": "[encoded data removed]",
      "text/plain": [
       "<matplotlib.figure.Figure at 0x8ef2370>"
      ]
     },
     "metadata": {},
     "output_type": "display_data"
    }
   ],
   "source": [
    "passing_RS[(passing_RS.Yards > 2000 )].plot.scatter(x = 'Yards', y = 'Times Sacked')"
   ]
  },
  {
   "cell_type": "markdown",
   "metadata": {},
   "source": [
    "The 'Times Sacked' stat shows how many times a QB has been tackled throughout the season (which makes it a team stat if we look at only QBs we have previously concluded are the starters in their teams, and so take up the majority of the playing time). \n",
    "The QBs who have been sacked the most are in the left part of the graph, but QBs towards the right end of the graph do not have the lowest amounts of sacks. \n",
    "Taking into account that (most of) the best teams have (most of) the best QBs (which was shown in Part 1), we conclude that they do not do the best at protecting their QBs. \n",
    "\n",
    "Hypothesis 3.4 was incorrect."
   ]
  },
  {
   "cell_type": "markdown",
   "metadata": {},
   "source": [
    "## Part 3\n",
    "## Hypothesis 3: If players are ranked high based on one stat, are they likely to have a high rank in another stat (in the same table) ?"
   ]
  },
  {
   "cell_type": "markdown",
   "metadata": {},
   "source": [
    "3.1 The passing table: "
   ]
  },
  {
   "cell_type": "code",
   "execution_count": 29,
   "metadata": {},
   "outputs": [
    {
     "data": {
      "text/plain": [
       "<matplotlib.axes._subplots.AxesSubplot at 0x8da48d0>"
      ]
     },
     "execution_count": 29,
     "metadata": {},
     "output_type": "execute_result"
    },
    {
     "data": {
      "image/png": "[encoded data removed]",
      "text/plain": [
       "<matplotlib.figure.Figure at 0x8ff7fb0>"
      ]
     },
     "metadata": {},
     "output_type": "display_data"
    }
   ],
   "source": [
    "passing_RS.plot.scatter(x = 'Yards', y = '20+')"
   ]
  },
  {
   "cell_type": "code",
   "execution_count": 30,
   "metadata": {},
   "outputs": [
    {
     "data": {
      "text/plain": [
       "<matplotlib.axes._subplots.AxesSubplot at 0x9016570>"
      ]
     },
     "execution_count": 30,
     "metadata": {},
     "output_type": "execute_result"
    },
    {
     "data": {
      "image/png": "[encoded data removed]",
      "text/plain": [
       "<matplotlib.figure.Figure at 0x9033110>"
      ]
     },
     "metadata": {},
     "output_type": "display_data"
    }
   ],
   "source": [
    "passing_RS.plot.scatter(x = 'Yards', y = '40+')"
   ]
  },
  {
   "cell_type": "code",
   "execution_count": 31,
   "metadata": {},
   "outputs": [
    {
     "data": {
      "text/plain": [
       "<matplotlib.axes._subplots.AxesSubplot at 0x904d270>"
      ]
     },
     "execution_count": 31,
     "metadata": {},
     "output_type": "execute_result"
    },
    {
     "data": {
      "image/png": "[encoded data removed]",
      "text/plain": [
       "<matplotlib.figure.Figure at 0x90bf130>"
      ]
     },
     "metadata": {},
     "output_type": "display_data"
    }
   ],
   "source": [
    "passing_RS.plot.scatter(x = 'Yards', y = 'Long')"
   ]
  },
  {
   "cell_type": "markdown",
   "metadata": {},
   "source": [
    "The QBs with the most yards do not have the longest completed passes."
   ]
  },
  {
   "cell_type": "markdown",
   "metadata": {},
   "source": [
    "We conclude from the graphs that QBs who have a high amount of yards are more likely to have completed more long passes, but their longest completed passes are not among the logest in the table. In part one we also saw that QBs with a high amount of yards also have a high amount of touchdowns. "
   ]
  },
  {
   "cell_type": "markdown",
   "metadata": {},
   "source": [
    "3.2 The receiving table:"
   ]
  },
  {
   "cell_type": "code",
   "execution_count": 32,
   "metadata": {},
   "outputs": [
    {
     "data": {
      "text/plain": [
       "<matplotlib.axes._subplots.AxesSubplot at 0x90bfef0>"
      ]
     },
     "execution_count": 32,
     "metadata": {},
     "output_type": "execute_result"
    },
    {
     "data": {
      "image/png": "[encoded data removed]",
      "text/plain": [
       "<matplotlib.figure.Figure at 0x90ac810>"
      ]
     },
     "metadata": {},
     "output_type": "display_data"
    }
   ],
   "source": [
    "receiving_relevant = receiving_RS[['Yards', 'Touchdowns', '20+', '40+']]\n",
    "receiving_relevant.sort_values('Yards').plot.bar('Yards', figsize = (15,10))"
   ]
  },
  {
   "cell_type": "markdown",
   "metadata": {},
   "source": [
    "Here we see that receivers with a high amount of yards are very likely to have caught passes between 20 and 40 yards, but that does not hold true for the amount of touchdowns they have, nor the amount of passes they have caught over 40 yards."
   ]
  },
  {
   "cell_type": "markdown",
   "metadata": {},
   "source": [
    "3.3 The rushing table:"
   ]
  },
  {
   "cell_type": "code",
   "execution_count": 33,
   "metadata": {},
   "outputs": [
    {
     "data": {
      "text/plain": [
       "<matplotlib.axes._subplots.AxesSubplot at 0x91ccf10>"
      ]
     },
     "execution_count": 33,
     "metadata": {},
     "output_type": "execute_result"
    },
    {
     "data": {
      "image/png": "[encoded data removed]",
      "text/plain": [
       "<matplotlib.figure.Figure at 0x91b35b0>"
      ]
     },
     "metadata": {},
     "output_type": "display_data"
    }
   ],
   "source": [
    "rushing_RS['AVG'] = round(rushing_RS['Yards'] / rushing_RS['Attempts'], 1)\n",
    "rushing_relevant = rushing_RS[['AVG', 'Touchdowns', '20+', '40+', 'Yards']]\n",
    "rushing_relevant.sort_values('Yards').plot.bar('Yards', figsize = (15,10))"
   ]
  },
  {
   "cell_type": "markdown",
   "metadata": {},
   "source": [
    "This graph shows that the more yards a halfback has, the more likely he is to have a high amount of touchdowns. However the average yards per attempt, and the amount of long runs that a halfback has completed do not rise in accordance with the amount of yards.  "
   ]
  },
  {
   "cell_type": "markdown",
   "metadata": {},
   "source": [
    "Fumbles are a negative stat, showing how many times a halfback has dropped the ball. "
   ]
  },
  {
   "cell_type": "code",
   "execution_count": 34,
   "metadata": {},
   "outputs": [
    {
     "data": {
      "text/plain": [
       "<matplotlib.axes._subplots.AxesSubplot at 0x93a5970>"
      ]
     },
     "execution_count": 34,
     "metadata": {},
     "output_type": "execute_result"
    },
    {
     "data": {
      "image/png": "[encoded data removed]",
      "text/plain": [
       "<matplotlib.figure.Figure at 0x910f610>"
      ]
     },
     "metadata": {},
     "output_type": "display_data"
    }
   ],
   "source": [
    "rushing_RS.plot.scatter(x = 'Yards', y = 'Fumbles')"
   ]
  },
  {
   "cell_type": "markdown",
   "metadata": {},
   "source": [
    "Most of the top 50 halfbacks have lost the ball less than 3 times, so there is no clear division between lower and higher ranked halfbacks. "
   ]
  },
  {
   "cell_type": "markdown",
   "metadata": {},
   "source": [
    "##### All three subparts of Part 3 show that if a player has a high rank in one stat, there is at least one other stat in which he has a high rank.\n",
    "##### Hypothesis 3 is correct"
   ]
  }
 ],
 "metadata": {
  "kernelspec": {
   "display_name": "Python 3",
   "language": "python",
   "name": "python3"
  },
  "language_info": {
   "codemirror_mode": {
    "name": "ipython",
    "version": 3
   },
   "file_extension": ".py",
   "mimetype": "text/x-python",
   "name": "python",
   "nbconvert_exporter": "python",
   "pygments_lexer": "ipython3",
   "version": "3.6.1"
  }
 },
 "nbformat": 4,
 "nbformat_minor": 1
}
